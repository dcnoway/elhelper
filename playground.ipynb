{
 "cells": [
  {
   "cell_type": "code",
   "execution_count": 31,
   "metadata": {},
   "outputs": [
    {
     "output_type": "stream",
     "name": "stdout",
     "text": "Total cells:15\n语文\n(统编版)习作《我的奇思妙想》\nhttps://alicache.bdschool.cn/public/bdschool/index/static/ali/weike/1653237355e08ab245e07e0cfe954662.html?grade_id=4&subject_id=1\n数学\n(北京版)小数性质（二）\nhttps://alicache.bdschool.cn/public/bdschool/index/static/ali/weike/819a3bcb5e14272a8d85ef7b6feeb89d.html?grade_id=4&subject_id=2\n(人教版)四则混合运算的顺序\nhttps://alicache.bdschool.cn/public/bdschool/index/static/ali/weike/ac14076935d0266e3d18ac9fdbd82f6a.html?grade_id=4&subject_id=2\n(统编版)习作《我的奇思妙想》\nhttps://alicache.bdschool.cn/public/bdschool/index/static/file/20200427_小学四年级_0427四年级语文（统编版）-习作《我的奇思妙想》.zip\n(北京版)小数性质（二）\nhttps://alicache.bdschool.cn/public/bdschool/index/static/file/20200427_小学四年级_0427四年级数学 （北京版）-小数的性质（二）.zip\n(人教版)四则混合运算的顺序\nhttps://alicache.bdschool.cn/public/bdschool/index/static/file/20200427_小学四年级_0427四年级数学（人教版）-四则混合运算的顺序.zip\n"
    }
   ],
   "source": [
    "#encoding=utf-8\n",
    "import requests\n",
    "import json\n",
    "import time\n",
    "from lxml import etree\n",
    "from seminar import Seminar\n",
    "\n",
    "def bdschoolSeminars(grade,date):\n",
    "    #bdschool information fetch\n",
    "    urlCurrentSchedule = 'https://alicache.bdschool.cn/public/bdschool/index/static/ali/w.html?grade={grade}'\n",
    "    wday = date.tm_wday\n",
    "    week_index = time.strftime(\"%U\",date)\n",
    "\n",
    "    resp = requests.get(\n",
    "        url=urlCurrentSchedule.format(grade=grade,yyyyMMdd=time.strftime(\"%Y/%m/%d\",date)),\n",
    "        verify = False)\n",
    "    if(resp.ok):\n",
    "        resp.encoding='utf-8'\n",
    "        html = etree.HTML(resp.text)\n",
    "    else:\n",
    "        raise Exception('Server NOT responding',resp)\n",
    "\n",
    "    result ={}\n",
    "\n",
    "    cellPath='//table[@class=\"content_table\"][@grade=\"4\"][@week_index=\"{week_index}\"]\\\n",
    "        /tr[@class=\"content_table_tr\"]/td[@class=\"content_table_td\"]'.format(week_index=week_index)\n",
    "    cells = html.xpath(cellPath)\n",
    "    print('Total cells:{}'.format(len(cells)))\n",
    "    for idx,val in enumerate(cells):\n",
    "        if idx%5 ==wday:\n",
    "            if len(val.xpath('./div[@class=\"content_table_td_subject\"]')) != 0 and \\\n",
    "                len(val.xpath('./a[@class=\"content_table_td_title\"]/span[@class=\"conten_table_td_span_title\"]')) != 0:\n",
    "                subject = val.xpath('./div[@class=\"content_table_td_subject\"]')[0].text\n",
    "                print(subject)\n",
    "                for a in val.xpath('./a[@class=\"content_table_td_title\"]'):\n",
    "                    sem = Seminar()\n",
    "                    sem.subject =subject\n",
    "                    sem.title = a.xpath('./span[@class=\"conten_table_td_span_title\"]')[0].text\n",
    "                    sem.videoUrl = a.xpath('./@href')[0]\n",
    "                    result[sem.title] =sem\n",
    "                    print(sem.title)\n",
    "                    print(sem.videoUrl)\n",
    "            elif len(val.xpath('./a[@class=\"conten_table_td_span_title_download\"]'))!=0:\n",
    "                for a in val.xpath('./a[@class=\"conten_table_td_span_title_download\"]'):\n",
    "                    title =a.xpath('./span[@class=\"conten_table_td_span_title\"]')[0].text\n",
    "                    print(title)\n",
    "                    result[title].homeworkUrl = a.xpath('./@href')[0]\n",
    "                    print(result[title].homeworkUrl)\n",
    "    return result\n",
    "\n",
    "if __name__ == '__main__':\n",
    "    grade =4\n",
    "    date = time.localtime()\n",
    "    bdschoolSeminars(grade,date)"
   ]
  },
  {
   "cell_type": "code",
   "execution_count": 32,
   "metadata": {},
   "outputs": [
    {
     "output_type": "stream",
     "name": "stdout",
     "text": "语文\n(统编版)千年梦圆在今朝\nhttps://alicache.bdschool.cn/public/bdschool/index/static/ali/weike/403f70c5bb6073bcd7b5a2f97fdaacd3.html?grade_id=4&subject_id=1\nhttps://alicache.bdschool.cn/public/bdschool/index/static/file/20200422_小学四年级_0422四年级语文（统编版）-千年梦圆在今朝.zip\n数学\n(北京版)小数的意义(二)\nhttps://alicache.bdschool.cn/public/bdschool/index/static/ali/weike/a9b2fe814464bb5c6325b119b3189d21.html?grade_id=4&subject_id=2\nhttps://alicache.bdschool.cn/public/bdschool/index/static/file/20200422_小学四年级_0422四年级数学（北京版）-小数的意义（二）.zip\n数学\n(人教版)乘、除法的意义和各部分之间的关系\nhttps://alicache.bdschool.cn/public/bdschool/index/static/ali/weike/37eaaed2a19e86c474d9c37150d60308.html?grade_id=4&subject_id=2\nhttps://alicache.bdschool.cn/public/bdschool/index/static/file/20200422_小学四年级_0422四年级数学（人教版）-乘、除法的意义和各部分间的关系.zip\n"
    }
   ],
   "source": [
    "for v in result:\n",
    "    print(result[v].subject)\n",
    "    print(result[v].title)\n",
    "    print(result[v].videoUrl)\n",
    "    print(result[v].homeworkUrl)"
   ]
  },
  {
   "cell_type": "code",
   "execution_count": 30,
   "metadata": {},
   "outputs": [
    {
     "output_type": "execute_result",
     "data": {
      "text/plain": "dict_values([<__main__.Seminar object at 0x00000263EFE2B448>, <__main__.Seminar object at 0x00000263EFE2BE88>, <__main__.Seminar object at 0x00000263EFE2B708>])"
     },
     "metadata": {},
     "execution_count": 30
    }
   ],
   "source": [
    "result.values()."
   ]
  },
  {
   "cell_type": "code",
   "execution_count": 1,
   "metadata": {},
   "outputs": [],
   "source": [
    "import urllib3.contrib.pyopenssl\n",
    "urllib3.contrib.pyopenssl.inject_into_urllib3()\n",
    "url = 'https://alicache.bdschool.cn/public/bdschool/index/static/ali/w.html?grade={grade}'"
   ]
  },
  {
   "cell_type": "code",
   "execution_count": null,
   "metadata": {},
   "outputs": [],
   "source": []
  }
 ],
 "metadata": {
  "language_info": {
   "codemirror_mode": {
    "name": "ipython",
    "version": 3
   },
   "file_extension": ".py",
   "mimetype": "text/x-python",
   "name": "python",
   "nbconvert_exporter": "python",
   "pygments_lexer": "ipython3",
   "version": "3.7.6-final"
  },
  "orig_nbformat": 2,
  "kernelspec": {
   "name": "python37664bitbasecondad210ecec69cf44e5b6c6fc45b92399e8",
   "display_name": "Python 3.7.6 64-bit ('base': conda)"
  }
 },
 "nbformat": 4,
 "nbformat_minor": 2
}
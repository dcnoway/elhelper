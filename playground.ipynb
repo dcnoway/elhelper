{
 "cells": [
  {
   "cell_type": "code",
   "execution_count": 6,
   "metadata": {},
   "outputs": [
    {
     "output_type": "stream",
     "name": "stdout",
     "text": "本地时间为 : time.struct_time(tm_year=2020, tm_mon=4, tm_mday=26, tm_hour=9, tm_min=24, tm_sec=16, tm_wday=6, tm_yday=117, tm_isdst=0)\n2020/04/26\n"
    }
   ],
   "source": [
    "import requests\n",
    "import json\n",
    "import time\n",
    "from lxml import etree\n",
    "\n",
    "class bdschoolAPI(object):\n",
    "    #urlCurrentSchedule = 'https://alicache.bdschool.cn/public/bdschool/index/static/ali/w.html?grade=4&_d=2020/04/23'\n",
    "    urlCurrentSchedule = 'https://alicache.bdschool.cn/public/bdschool/index/static/ali/w.html?grade={grade}&_d={yyyyMMdd}'\n",
    "\n",
    "    @staticmethod\n",
    "    def get_schedule(grade:int, date:str):\n",
    "        '''\n",
    "        Get all avaliable nCov data of designated city\n",
    "        return a \n",
    "\n",
    "        if city:\n",
    "            response = requests.get(url=QQnCovAPI.urlNCOVCityHistory.format(provinceName=province,cityName=city))\n",
    "        else:\n",
    "            response = requests.get(url=QQnCovAPI.urlNCOVProvinceHistory.format(provinceName=province))\n",
    "        \n",
    "        if(response.ok):\n",
    "            response.encoding='utf-8'\n",
    "            jsonObj = json.loads(response.content,encoding='utf-8')\n",
    "            if(jsonObj['ret']==0):\n",
    "                return jsonObj['data']\n",
    "        else:\n",
    "            raise Exception('Server NOT responding!',response)\n",
    "        '''\n",
    "        resp = requests.get(\n",
    "            url=bdschoolAPI.urlCurrentSchedule.format(grade=grade,yyyyMMdd=date),\n",
    "            verify = False)\n",
    "        if(resp.ok):\n",
    "            resp.encoding='utf-8'\n",
    "            html = etree.HTML(resp.text)\n",
    "        else:\n",
    "            raise Exception('Server NOT responding',resp)\n",
    "\n",
    "if __name__ == '__main__':\n",
    "    localtime = time.localtime(time.time())\n",
    "    print(\"本地时间为 :\", localtime)\n",
    "    ymd=time.strftime(\"%Y/%m/%d\", time.localtime())\n",
    "    print(ymd)\n",
    "    bdschoolAPI.get_schedule(4,ymd)"
   ]
  },
  {
   "cell_type": "code",
   "execution_count": null,
   "metadata": {},
   "outputs": [],
   "source": []
  }
 ],
 "metadata": {
  "language_info": {
   "codemirror_mode": {
    "name": "ipython",
    "version": 3
   },
   "file_extension": ".py",
   "mimetype": "text/x-python",
   "name": "python",
   "nbconvert_exporter": "python",
   "pygments_lexer": "ipython3",
   "version": "3.7.6-final"
  },
  "orig_nbformat": 2,
  "kernelspec": {
   "name": "python37664bitbasecondad210ecec69cf44e5b6c6fc45b92399e8",
   "display_name": "Python 3.7.6 64-bit ('base': conda)"
  }
 },
 "nbformat": 4,
 "nbformat_minor": 2
}
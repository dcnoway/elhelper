{
 "cells": [
  {
   "cell_type": "code",
   "execution_count": 34,
   "metadata": {},
   "outputs": [
    {
     "output_type": "stream",
     "name": "stdout",
     "text": "Total cells:20\n语文\n(统编版)千年梦圆在今朝\n"
    },
    {
     "output_type": "error",
     "ename": "IndexError",
     "evalue": "list index out of range",
     "traceback": [
      "\u001b[1;31m---------------------------------------------------------------------------\u001b[0m",
      "\u001b[1;31mIndexError\u001b[0m                                Traceback (most recent call last)",
      "\u001b[1;32m<ipython-input-34-1592deefcb51>\u001b[0m in \u001b[0;36m<module>\u001b[1;34m\u001b[0m\n\u001b[0;32m     43\u001b[0m         \u001b[0mprint\u001b[0m\u001b[1;33m(\u001b[0m\u001b[0mval\u001b[0m\u001b[1;33m.\u001b[0m\u001b[0mfind\u001b[0m\u001b[1;33m(\u001b[0m\u001b[1;34m'div[@class=\"content_table_td_subject\"]'\u001b[0m\u001b[1;33m)\u001b[0m\u001b[1;33m.\u001b[0m\u001b[0mtext\u001b[0m\u001b[1;33m)\u001b[0m\u001b[1;33m\u001b[0m\u001b[1;33m\u001b[0m\u001b[0m\n\u001b[0;32m     44\u001b[0m         \u001b[0mprint\u001b[0m\u001b[1;33m(\u001b[0m\u001b[0mval\u001b[0m\u001b[1;33m.\u001b[0m\u001b[0mfindall\u001b[0m\u001b[1;33m(\u001b[0m\u001b[1;34m'a[@class=\"content_table_td_title\"]/span[@class=\"conten_table_td_span_title\"]'\u001b[0m\u001b[1;33m)\u001b[0m\u001b[1;33m[\u001b[0m\u001b[1;36m0\u001b[0m\u001b[1;33m]\u001b[0m\u001b[1;33m.\u001b[0m\u001b[0mtext\u001b[0m\u001b[1;33m)\u001b[0m\u001b[1;33m\u001b[0m\u001b[1;33m\u001b[0m\u001b[0m\n\u001b[1;32m---> 45\u001b[1;33m         \u001b[0mprint\u001b[0m\u001b[1;33m(\u001b[0m\u001b[0mval\u001b[0m\u001b[1;33m.\u001b[0m\u001b[0mfindall\u001b[0m\u001b[1;33m(\u001b[0m\u001b[1;34m'a[@class=\"content_table_td_title\"]/href'\u001b[0m\u001b[1;33m)\u001b[0m\u001b[1;33m[\u001b[0m\u001b[1;36m0\u001b[0m\u001b[1;33m]\u001b[0m\u001b[1;33m)\u001b[0m\u001b[1;33m\u001b[0m\u001b[1;33m\u001b[0m\u001b[0m\n\u001b[0m\u001b[0;32m     46\u001b[0m         \u001b[1;31m#print(val.xpath(cellPath+'['+str(idx+1)+']/div[@class=\"content_table_td_subject\"]')[0].text)\u001b[0m\u001b[1;33m\u001b[0m\u001b[1;33m\u001b[0m\u001b[1;33m\u001b[0m\u001b[0m\n\u001b[0;32m     47\u001b[0m         \u001b[1;31m#print(val.xpath(cellPath+'['+str(idx+1)+']/a[@class=\"content_table_td_title\"]/span[@class=\"conten_table_td_span_title\"]')[0].text)\u001b[0m\u001b[1;33m\u001b[0m\u001b[1;33m\u001b[0m\u001b[1;33m\u001b[0m\u001b[0m\n",
      "\u001b[1;31mIndexError\u001b[0m: list index out of range"
     ]
    }
   ],
   "source": [
    "import requests\n",
    "import json\n",
    "import time\n",
    "from lxml import etree\n",
    "\n",
    "#simulate input args\n",
    "grade =4\n",
    "date = time.localtime()\n",
    "\n",
    "#data struct\n",
    "class Seminar(object):\n",
    "    def __init__(self,subject='',title='',videoUrl='',homeworkUrl=''):\n",
    "        self.subject = subject\n",
    "        self.title = title\n",
    "        self.videoUrl = videoUrl\n",
    "        self.homeworkUrl = homeworkUrl\n",
    "\n",
    "#bdschool information fetch\n",
    "urlCurrentSchedule = 'https://alicache.bdschool.cn/public/bdschool/index/static/ali/w.html?grade={grade}'\n",
    "wday = date.tm_wday\n",
    "week_index = time.strftime(\"%U\",date)\n",
    "\n",
    "wday = 2\n",
    "week_index =16\n",
    "\n",
    "resp = requests.get(\n",
    "    url=urlCurrentSchedule.format(grade=grade,yyyyMMdd=time.strftime(\"%Y/%m/%d\",date)),\n",
    "    verify = False)\n",
    "if(resp.ok):\n",
    "    resp.encoding='utf-8'\n",
    "    html = etree.HTML(resp.text)\n",
    "else:\n",
    "    raise Exception('Server NOT responding',resp)\n",
    "\n",
    "\n",
    "\n",
    "cellPath='//table[@class=\"content_table\"][@grade=\"4\"][@week_index=\"{week_index}\"]/tr[@class=\"content_table_tr\"]/td[@class=\"content_table_td\"]'.format(week_index=week_index)\n",
    "cells = html.xpath(cellPath)\n",
    "print('Total cells:{}'.format(len(cells)))\n",
    "for idx,val in enumerate(cells):\n",
    "    if idx%7 ==wday:\n",
    "        \n",
    "        print(val.find('div[@class=\"content_table_td_subject\"]').text)\n",
    "        print(val.findall('a[@class=\"content_table_td_title\"]/span[@class=\"conten_table_td_span_title\"]')[0].text)\n",
    "        print(val.findall('a[@class=\"content_table_td_title\"]/@href')[0])\n",
    "        #print(val.xpath(cellPath+'['+str(idx+1)+']/div[@class=\"content_table_td_subject\"]')[0].text)\n",
    "        #print(val.xpath(cellPath+'['+str(idx+1)+']/a[@class=\"content_table_td_title\"]/span[@class=\"conten_table_td_span_title\"]')[0].text)\n",
    "        #print(val.xpath(cellPath+'['+str(idx+1)+']/a[@class=\"content_table_td_title\"]/@href')[0])\n"
   ]
  },
  {
   "cell_type": "code",
   "execution_count": 3,
   "metadata": {},
   "outputs": [
    {
     "output_type": "stream",
     "name": "stdout",
     "text": "20\n"
    }
   ],
   "source": [
    "print(len(cells))"
   ]
  },
  {
   "cell_type": "code",
   "execution_count": null,
   "metadata": {},
   "outputs": [],
   "source": [
    "#homework = html.xpath('//table[@class=\"content_table\"][@grade=\"4\"][@week_index=\"17\"]/tr[@class=\"content_table_tr\"]/td[@class=\"content_table_td\"/a')\n",
    "seminars = html.xpath('//table[@class=\"content_table\"][@grade=\"4\"][@week_index=\"{week_index}\"]/tr[@class=\"content_table_tr\"]/td[@class=\"content_table_td\"]/a[@class=\"content_table_td_title\"]'.format(week_index=week_index))\n",
    "result.subject = seminars[wday].xpath('../div[@class=\"content_table_td_subject\"]')[0].text\n",
    "result.title = seminars[wday].xpath('span[@class=\"conten_table_td_span_title\"]')[0].text\n",
    "result.videoUrl = seminars[wday].xpath('@href')[0]\n",
    "\n",
    "homeworks = html.xpath('//table[@class=\"content_table\"][@grade=\"4\"][@week_index=\"{week_index}\"]/tr[@class=\"content_table_tr\"]/td[@class=\"content_table_td\"]'.format(week_index=week_index))\n",
    "#homeworks = html.xpath('//table[@class=\"content_table\"][@grade=\"4\"][@week_index=\"17\"]/tr[@class=\"content_table_tr\"]/td[@class=\"content_table_td\"]/a[@class=\"conten_table_td_span_title_download\"]/@href')\n",
    "result.homeworkUrl = homeworks[wday].xpath('/a[@class=\"conten_table_td_span_title_download\"]/@href')\n",
    "\n"
   ]
  }
 ],
 "metadata": {
  "language_info": {
   "codemirror_mode": {
    "name": "ipython",
    "version": 3
   },
   "file_extension": ".py",
   "mimetype": "text/x-python",
   "name": "python",
   "nbconvert_exporter": "python",
   "pygments_lexer": "ipython3",
   "version": "3.7.4-final"
  },
  "orig_nbformat": 2,
  "kernelspec": {
   "name": "python37464bitbasecondae1d7527cd8944f7590d0191758fad0c3",
   "display_name": "Python 3.7.4 64-bit ('base': conda)"
  }
 },
 "nbformat": 4,
 "nbformat_minor": 2
}